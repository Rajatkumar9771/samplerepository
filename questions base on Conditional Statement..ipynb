{
 "cells": [
  {
   "cell_type": "markdown",
   "metadata": {},
   "source": [
    "# <font color='green'>Practics Question and Answer on conditional statment in python:-</font>\n"
   ]
  },
  {
   "cell_type": "markdown",
   "metadata": {},
   "source": [
    "### Q.1.Take values of length and breadth of a rectangle from user and check if it is square or not"
   ]
  },
  {
   "cell_type": "code",
   "execution_count": 26,
   "metadata": {},
   "outputs": [
    {
     "name": "stdout",
     "output_type": "stream",
     "text": [
      "enter side of  length\n"
     ]
    },
    {
     "ename": "ValueError",
     "evalue": "invalid literal for int() with base 10: ''",
     "output_type": "error",
     "traceback": [
      "\u001b[1;31m---------------------------------------------------------------------------\u001b[0m",
      "\u001b[1;31mValueError\u001b[0m                                Traceback (most recent call last)",
      "\u001b[1;32m<ipython-input-26-e67a7b747f8f>\u001b[0m in \u001b[0;36m<module>\u001b[1;34m\u001b[0m\n\u001b[1;32m----> 1\u001b[1;33m \u001b[0ma\u001b[0m\u001b[1;33m=\u001b[0m\u001b[0mint\u001b[0m\u001b[1;33m(\u001b[0m\u001b[0minput\u001b[0m\u001b[1;33m(\u001b[0m\u001b[1;34m'enter side of  length'\u001b[0m\u001b[1;33m)\u001b[0m\u001b[1;33m)\u001b[0m\u001b[1;33m\u001b[0m\u001b[1;33m\u001b[0m\u001b[0m\n\u001b[0m\u001b[0;32m      2\u001b[0m \u001b[0mb\u001b[0m\u001b[1;33m=\u001b[0m\u001b[0mint\u001b[0m\u001b[1;33m(\u001b[0m\u001b[0minput\u001b[0m\u001b[1;33m(\u001b[0m\u001b[1;34m'enter side of breadth '\u001b[0m\u001b[1;33m)\u001b[0m\u001b[1;33m)\u001b[0m\u001b[1;33m\u001b[0m\u001b[1;33m\u001b[0m\u001b[0m\n\u001b[0;32m      3\u001b[0m \u001b[0marea_of_ractangle\u001b[0m \u001b[1;33m=\u001b[0m\u001b[0ma\u001b[0m\u001b[1;33m*\u001b[0m\u001b[0mb\u001b[0m\u001b[1;33m\u001b[0m\u001b[1;33m\u001b[0m\u001b[0m\n\u001b[0;32m      4\u001b[0m \u001b[0mprint\u001b[0m\u001b[1;33m(\u001b[0m\u001b[1;34m'area of rectangle is:'\u001b[0m\u001b[1;33m,\u001b[0m\u001b[0marea_of_ractangle\u001b[0m \u001b[1;33m)\u001b[0m\u001b[1;33m\u001b[0m\u001b[1;33m\u001b[0m\u001b[0m\n\u001b[0;32m      5\u001b[0m \u001b[1;33m\u001b[0m\u001b[0m\n",
      "\u001b[1;31mValueError\u001b[0m: invalid literal for int() with base 10: ''"
     ]
    }
   ],
   "source": [
    "a=int(input('enter side of  length'))\n",
    "b=int(input('enter side of breadth '))\n",
    "area_of_ractangle =a*b\n",
    "print('area of rectangle is:',area_of_ractangle )\n",
    "\n",
    "# now check enter length and breath willl make square or not \n",
    "if(a==b):\n",
    "    print('enter value of length and breadth can form a square')\n",
    "    \n",
    "else:\n",
    "    print('enter value of lengh and breadth can not form square')\n",
    "    "
   ]
  },
  {
   "cell_type": "markdown",
   "metadata": {},
   "source": [
    "### Q2.take two int values from user and print greatest among them"
   ]
  },
  {
   "cell_type": "code",
   "execution_count": null,
   "metadata": {},
   "outputs": [],
   "source": [
    "print('enter first number')\n",
    "a=int(input())\n",
    "print('enter second number ')\n",
    "b=int(input())\n",
    "if(a>b):\n",
    "    print('a is greater then b and value of a is ',a)\n",
    "else:\n",
    "    print('b is greater then a and value of b is ',b)"
   ]
  },
  {
   "cell_type": "markdown",
   "metadata": {},
   "source": [
    "### Q3.A shop will give discount of 10% if the cost of purchased quantity is more than 1000.\n",
    "Ask user for quantity\n",
    "Suppose, one unit will cost 100.\n",
    "Judge and print total cost for user.\n"
   ]
  },
  {
   "cell_type": "code",
   "execution_count": null,
   "metadata": {},
   "outputs": [],
   "source": [
    "print('enter your  RS. value ')\n",
    "RS=int(input())\n",
    "if (RS>1000):\n",
    "    discount=RS*0.1\n",
    "    cost=RS-discount\n",
    "    print('your actual cost is:',cost)\n",
    "else:\n",
    "    print('sorry your quantity cost is less then 1000 so you will not get any disount ')"
   ]
  },
  {
   "cell_type": "markdown",
   "metadata": {},
   "source": [
    "### Q4.A company decided to give bonus of 5% to employee if his/her year of service is more than 5 years.\n",
    "Ask user for their salary and year of service and print the net bonus amount."
   ]
  },
  {
   "cell_type": "code",
   "execution_count": 4,
   "metadata": {},
   "outputs": [
    {
     "name": "stdout",
     "output_type": "stream",
     "text": [
      "enter your year of service in this comany \n",
      "4\n",
      "you will no get any increament in your salary because your servics year is below five year\n"
     ]
    }
   ],
   "source": [
    "print('enter your year of service in this comany ')\n",
    "service_year=int(input())\n",
    "\n",
    "if (service_year>5):\n",
    "    print('enter you current salary: ')\n",
    "    current_salary=int(input())\n",
    "    print('you will get increament in this year')\n",
    "    net_bonus_amount=(current_salary)*0.5\n",
    "    print('your net_bonus_amount is:',net_bonus_amount)\n",
    "    \n",
    "else:\n",
    "    print('you will no get any increament in your salary because your servics year is below five year')"
   ]
  },
  {
   "cell_type": "markdown",
   "metadata": {},
   "source": [
    "### Q5.A school has following rules for grading system:\n",
    "\n",
    "a. Below 25 - F\n",
    "\n",
    "b. 25 to 45 - E\n",
    "\n",
    "c. 45 to 50 - D\n",
    "\n",
    "d. 50 to 60 - C\n",
    "\n",
    "e. 60 to 80 - B\n",
    "\n",
    "f. Above 80 - A\n",
    "\n",
    "Ask user to enter marks and print the corresponding grade.\n"
   ]
  },
  {
   "cell_type": "code",
   "execution_count": 11,
   "metadata": {},
   "outputs": [
    {
     "name": "stdout",
     "output_type": "stream",
     "text": [
      "Enter your mark and show your grad\n",
      "25\n",
      "your grad is E and mark is:  25\n"
     ]
    }
   ],
   "source": [
    "print('Enter your mark and show your grad')\n",
    "mark=int(input())\n",
    "if(mark>100):\n",
    "    print('you have enter wrong mark ')\n",
    "    \n",
    "else:\n",
    "    \n",
    "    if (mark<25):\n",
    "        \n",
    "        print('your grad is F and mark is: ',mark)\n",
    "    \n",
    "    elif(mark>=25 and mark<=45):\n",
    "        \n",
    "        print('your grad is E and mark is: ',mark)\n",
    "    elif(mark>45 and  mark<=50):\n",
    "        print('your grad is D and mark is: ',mark)\n",
    "    elif(mark>50 and mark<=60):\n",
    "        print('your grad is C and mark is: ',mark)\n",
    "    elif(mark>60 and mark<=80):\n",
    "        print('your grad is B and mark is: ',mark)\n",
    "    else:\n",
    "        print('your grad is A and mark is: ',mark)"
   ]
  },
  {
   "cell_type": "markdown",
   "metadata": {},
   "source": [
    "### Q.6 Take input of age of 3 people by user and determine oldest and youngest among them."
   ]
  },
  {
   "cell_type": "code",
   "execution_count": 14,
   "metadata": {},
   "outputs": [
    {
     "name": "stdout",
     "output_type": "stream",
     "text": [
      "Enter age  of first man\n",
      "45\n",
      "Enter age of second man\n",
      "78\n",
      "enter age of third man\n",
      "12\n",
      "man2 is oldest among them\n"
     ]
    }
   ],
   "source": [
    "print('Enter age  of first man')\n",
    "man1=int(input())\n",
    "print('Enter age of second man')\n",
    "man2=int(input())\n",
    "print('enter age of third man')\n",
    "man3=int(input())\n",
    "if(man1>man2 and man1>man3):\n",
    "    print('man1 is oldest among them ')\n",
    "    \n",
    "elif(man2>man1 and man2>man3):\n",
    "    print('man2 is oldest among them')\n",
    "\n",
    "elif(man3>man1 and man3>man2):\n",
    "    print('man3 is oldest amoung them ')\n",
    "    \n",
    "else:\n",
    "    print('age of all mans are equal')"
   ]
  },
  {
   "cell_type": "markdown",
   "metadata": {},
   "source": [
    "### Q.7.Write a program to print absolute vlaue of a number entered by user. E.g.-\n",
    "INPUT: 1        OUTPUT: 1\n",
    "\n",
    "INPUT: -1        OUTPUT: 1"
   ]
  },
  {
   "cell_type": "code",
   "execution_count": 20,
   "metadata": {},
   "outputs": [
    {
     "name": "stdout",
     "output_type": "stream",
     "text": [
      "Enter your value for finding the absolute value \n",
      "-787\n",
      "absolute value is: 787\n"
     ]
    }
   ],
   "source": [
    "print('Enter your value for finding the absolute value ')\n",
    "value=int(input())\n",
    "absolute_value=abs(value) # abs is a fucntion in python which will give absolute value or value without any negative sign.\n",
    "print('absolute value is:',absolute_value)"
   ]
  },
  {
   "cell_type": "markdown",
   "metadata": {},
   "source": [
    "### Q.8. A student will not be allowed to sit in exam if his/her attendence is less than 75%.\n",
    "Take following input from user\n",
    "\n",
    "Number of classes held\n",
    "\n",
    "Number of classes attended.\n",
    "\n",
    "And print\n",
    "\n",
    "percentage of class attended\n",
    "\n",
    "Is student is allowed to sit in exam or not.\n",
    "\n",
    "\n",
    "\n",
    "\n",
    "\n",
    "\n",
    "\n"
   ]
  },
  {
   "cell_type": "code",
   "execution_count": 25,
   "metadata": {},
   "outputs": [
    {
     "name": "stdout",
     "output_type": "stream",
     "text": [
      "enter total number of classs held\n",
      "100\n",
      "enter number of class you have attended\n",
      "50\n",
      "percentage of classes attended is : 50.0\n",
      "do you have any medical causen enter yes or not\n",
      "yes\n",
      "you will allow to sit in the exam\n"
     ]
    }
   ],
   "source": [
    "print('enter total number of classs held')\n",
    "held_classes=int(input())\n",
    "print('enter number of class you have attended')\n",
    "attend_classes=int(input())\n",
    "percentage_of_classes_attended=(attend_classes*100)/(held_classes)\n",
    "print('percentage of classes attended is :',percentage_of_classes_attended)\n",
    "print('do you have any medical causen enter yes or not')\n",
    "medical_cause=input()\n",
    "if(percentage_of_classes_attended>75 or medical_cause=='yes'):\n",
    "    \n",
    "    print('you will allow to sit in the exam')\n",
    "    \n",
    "else:\n",
    "    print('your attendence is less then 75% so you are not allow to sit in the exam ')"
   ]
  },
  {
   "cell_type": "markdown",
   "metadata": {},
   "source": [
    "### Q.9. Write a program to check whether a number entered by user is even or odd."
   ]
  },
  {
   "cell_type": "code",
   "execution_count": 29,
   "metadata": {},
   "outputs": [
    {
     "name": "stdout",
     "output_type": "stream",
     "text": [
      "enter number to check wether number is odd or even1\n",
      "you have enter odd number \n"
     ]
    }
   ],
   "source": [
    "a=int(input('enter number to check wether number is odd or even'))\n",
    "if(a%2==0):\n",
    "    print('you have enter even number')\n",
    "    \n",
    "else:\n",
    "    print('you have enter odd number ')"
   ]
  },
  {
   "cell_type": "markdown",
   "metadata": {},
   "source": [
    "###  Q.10.Write a program to check whether a number is divisible by 7 or not.\n"
   ]
  },
  {
   "cell_type": "code",
   "execution_count": 32,
   "metadata": {},
   "outputs": [
    {
     "name": "stdout",
     "output_type": "stream",
     "text": [
      "enter number to check it is diviale by 7 or not 49\n",
      "enter number by you is divisble by 7\n"
     ]
    }
   ],
   "source": [
    "a=int(input('enter number to check it is diviale by 7 or not '))\n",
    "if(a%7==0):\n",
    "    print('enter number by you is divisble by 7')\n",
    "    \n",
    "else:\n",
    "    print('enter number is not divisiable by 7')"
   ]
  },
  {
   "cell_type": "markdown",
   "metadata": {},
   "source": [
    "###  Q.11.Write a program to display \"Hello\" if a number entered by user is a multiple of five , otherwise print \"Bye\".\n"
   ]
  },
  {
   "cell_type": "code",
   "execution_count": 34,
   "metadata": {},
   "outputs": [
    {
     "name": "stdout",
     "output_type": "stream",
     "text": [
      "enter number and show magic 55522111454545455450\n",
      "Hello\n"
     ]
    }
   ],
   "source": [
    "a=int(input('enter number and show magic '))\n",
    "if(a%5==0):\n",
    "    print('Hello')\n",
    "    \n",
    "else:\n",
    "    print('Hi')"
   ]
  },
  {
   "cell_type": "markdown",
   "metadata": {},
   "source": [
    "### Q.12. Write a program to calculate the electricity bill (accept number of unit from user) according to the following criteria :\n",
    "             Unit                                                     Price  \n",
    "             \n",
    "First 100 units   -------------------------------------------no charge\n",
    "\n",
    "Next 100 units ---------------------------------------------Rs 5 per unit\n",
    "\n",
    "After 200 units  ---------------------------------------------Rs 10 per unit\n",
    "\n",
    "(For example if input unit is 350 than total bill amount is Rs2000)"
   ]
  },
  {
   "cell_type": "code",
   "execution_count": 46,
   "metadata": {},
   "outputs": [
    {
     "name": "stdout",
     "output_type": "stream",
     "text": [
      "total spend unit is :-78\n",
      "you have enter wrong unit\n"
     ]
    }
   ],
   "source": [
    "unit_use=int(input('total spend unit is :'))\n",
    "if(unit_use<0):\n",
    "    print('you have enter wrong unit')\n",
    "elif(unit_use<100):\n",
    "    print('you are not suppose to pay any bijli bill')\n",
    "    \n",
    "elif(unit_use>100 and unit_use<200):\n",
    "    total_payable_electricity_is=unit_use-100\n",
    "    print('you will pay RS 5 per unit')\n",
    "    total_bill=  total_payable_electricity_is*5\n",
    "    print('total payable amount is :',total_bill)\n",
    "    \n",
    "elif(unit_use>200):\n",
    "    \n",
    "    total_payable_electricity_unit=unit_use-100\n",
    "    payment1=100*5\n",
    "    total_payable_electricity_unit1=  total_payable_electricity_unit-100\n",
    "    payment2=  total_payable_electricity_unit1*10\n",
    "    total_payment=payment1+payment2\n",
    "    print('total bijli bill you have to pay is:',total_payment)\n",
    "\n",
    "    \n",
    "        "
   ]
  },
  {
   "attachments": {},
   "cell_type": "markdown",
   "metadata": {},
   "source": [
    "### Q.13. Write a program to check whether the last digit of a number( entered by user ) is  divisible by 3 or not."
   ]
  },
  {
   "cell_type": "code",
   "execution_count": 48,
   "metadata": {},
   "outputs": [
    {
     "name": "stdout",
     "output_type": "stream",
     "text": [
      "enter number 5456454546\n",
      "last digit of your number is divisiable by 3\n"
     ]
    }
   ],
   "source": [
    "a=int(input('enter number '))\n",
    "b=a%10\n",
    "if(b%3==0):\n",
    "    print('last digit of your number is divisiable by 3')\n",
    "    \n",
    "else:\n",
    "    print('last digit of your number is not divisiable by 3 ')"
   ]
  },
  {
   "cell_type": "code",
   "execution_count": null,
   "metadata": {},
   "outputs": [],
   "source": []
  }
 ],
 "metadata": {
  "kernelspec": {
   "display_name": "Python 3",
   "language": "python",
   "name": "python3"
  },
  "language_info": {
   "codemirror_mode": {
    "name": "ipython",
    "version": 3
   },
   "file_extension": ".py",
   "mimetype": "text/x-python",
   "name": "python",
   "nbconvert_exporter": "python",
   "pygments_lexer": "ipython3",
   "version": "3.8.5"
  }
 },
 "nbformat": 4,
 "nbformat_minor": 4
}
